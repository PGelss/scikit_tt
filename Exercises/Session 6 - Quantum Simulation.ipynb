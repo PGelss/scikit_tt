{
 "cells": [
  {
   "cell_type": "markdown",
   "id": "e4f44eb7",
   "metadata": {},
   "source": [
    "<h1 style=\"text-align: center;\"><b>TMQS Workshop 2024</b> @ Zuse Institute Berlin</h1>\n",
    "<h2 style=\"text-align: center;\">Summer School on Tensor Methods for Quantum Simulation</h2>\n",
    "<h2 style=\"text-align: center;\">June 3 - 5, 2024</h2>\n",
    "$\\def\\tcoreleft{\\textcolor{MidnightBlue}{\\Huge⦸}}$\n",
    "$\\def\\tcorecenter{\\textcolor{RedOrange}{\\Huge⦿}}$\n",
    "$\\def\\tcoreright{\\textcolor{MidnightBlue}{\\Huge\\oslash}}$\n",
    "<div style=\"text-align: center; background-color:#D6EAF8;padding-top:20px;padding-bottom:5px\">\n",
    "<table style=\"font-size:16pt\">\n",
    "    <tr style=\"background-color:#D6EAF8;\">\n",
    "        <td>$\\tcoreleft$</td>\n",
    "        <td>$-$</td>\n",
    "        <td>$\\tcoreleft$</td>\n",
    "        <td>$-$</td>\n",
    "        <td>$\\tcoreleft$</td>\n",
    "        <td>$-$</td>\n",
    "        <td>$\\cdots$</td>\n",
    "        <td>$-$</td>\n",
    "        <td>$\\tcorecenter$</td>\n",
    "        <td>$-$</td>\n",
    "        <td>$\\cdots$</td>\n",
    "        <td>$-$</td>\n",
    "        <td>$\\tcoreright$</td>\n",
    "        <td>$-$</td>\n",
    "        <td>$\\tcoreright$</td>\n",
    "    </tr>\n",
    "    <tr style=\"background-color:#D6EAF8;\">\n",
    "        <td style=\"text-align: center;\">$\\tiny\\mid$</td>\n",
    "        <td></td>\n",
    "        <td style=\"text-align: center;\">$\\tiny\\mid$</td>\n",
    "        <td></td>\n",
    "        <td style=\"text-align: center;\">$\\tiny\\mid$</td>\n",
    "        <td></td>\n",
    "        <td></td>\n",
    "        <td></td>\n",
    "        <td style=\"text-align: center;\">$\\tiny\\mid$</td>\n",
    "        <td></td>\n",
    "        <td></td>\n",
    "        <td></td>\n",
    "        <td style=\"text-align: center;\">$\\tiny\\mid$</td>\n",
    "        <td></td>\n",
    "        <td style=\"text-align: center;\">$\\tiny\\mid$</td>\n",
    "    </tr>\n",
    "</table>\n",
    "</div>"
   ]
  },
  {
   "cell_type": "markdown",
   "id": "6f6cc702",
   "metadata": {},
   "source": [
    "***"
   ]
  },
  {
   "cell_type": "markdown",
   "id": "74ce99d5-268a-4ad8-980b-de19d60b6be6",
   "metadata": {},
   "source": [
    "## **Session 6 - Quantum Simulation**"
   ]
  },
  {
   "cell_type": "markdown",
   "id": "e8441c54-ffd4-45b4-ab04-ff8cf85e6474",
   "metadata": {},
   "source": [
    "***"
   ]
  },
  {
   "cell_type": "markdown",
   "id": "352b5d1e-a082-49c0-a29a-3c73d819a5a5",
   "metadata": {},
   "source": [
    "## Exercise 6.1\n",
    "\n",
    "Let us examine the quantum counterpart of a standard classical circuit. The *quantum full adder* (QFA) is the quantum analogue of a full-adder circuit used in classical computers to add up to three bits. Due to reversibility requirements, the QFA acts on four qubits: The input qubits are $\\ket{C_\\mathrm{in}}$, $\\ket{A}$, $\\ket{B}$, and $\\ket{0}$ and the output qubits are $\\ket{S}$, $\\ket{A}$, $\\ket{B}$, and $\\ket{C_\\mathrm{out}}$. The qubit $\\ket{C_\\mathrm{in}}$ is carried in from the previous (less-significant) stage of a multi-digit addition. The circuit produces the sum of the input qubits including a carry-out signal for the overflow into the next digit. \n",
    "\n",
    "The QFA algorithm is given by the following circuit:"
   ]
  },
  {
   "cell_type": "code",
   "execution_count": 1,
   "id": "eb600b78-178c-4ab2-b25b-17a629e98a44",
   "metadata": {},
   "outputs": [
    {
     "data": {
      "text/html": [
       "<pre style=\"word-wrap: normal;white-space: pre;background: #fff0;line-height: 1.1;font-family: &quot;Courier New&quot;,Courier,monospace\">                     ┌───┐     \n",
       "C_in: ────────────■──┤ X ├─────\n",
       "                  │  └─┬─┘     \n",
       "   A: ──■────■────┼────┼────■──\n",
       "        │  ┌─┴─┐  │    │  ┌─┴─┐\n",
       "   B: ──■──┤ X ├──■────■──┤ X ├\n",
       "      ┌─┴─┐└───┘┌─┴─┐     └───┘\n",
       "   0: ┤ X ├─────┤ X ├──────────\n",
       "      └───┘     └───┘          </pre>"
      ],
      "text/plain": [
       "                     ┌───┐     \n",
       "C_in: ────────────■──┤ X ├─────\n",
       "                  │  └─┬─┘     \n",
       "   A: ──■────■────┼────┼────■──\n",
       "        │  ┌─┴─┐  │    │  ┌─┴─┐\n",
       "   B: ──■──┤ X ├──■────■──┤ X ├\n",
       "      ┌─┴─┐└───┘┌─┴─┐     └───┘\n",
       "   0: ┤ X ├─────┤ X ├──────────\n",
       "      └───┘     └───┘          "
      ]
     },
     "execution_count": 1,
     "metadata": {},
     "output_type": "execute_result"
    }
   ],
   "source": [
    "from qiskit import QuantumRegister, QuantumCircuit\n",
    "\n",
    "C_in = QuantumRegister(1, 'C_in')\n",
    "A = QuantumRegister(1, 'A')\n",
    "B = QuantumRegister(1, 'B')\n",
    "Zero = QuantumRegister(1, '0')\n",
    "\n",
    "qc = QuantumCircuit(C_in, A, B, Zero)\n",
    "\n",
    "qc.ccx(1,2,3)\n",
    "qc.cx(1,2)\n",
    "qc.ccx(0,2,3)\n",
    "qc.cx(2,0)\n",
    "qc.cx(1,2)\n",
    "qc.draw() "
   ]
  },
  {
   "cell_type": "markdown",
   "id": "9bfa9c5f-b45b-4c3d-9d8c-f07d41ce2a35",
   "metadata": {},
   "source": [
    "**a)**$\\quad$Write down the corresponding truth table!\n",
    "\n",
    "**b**)$\\quad$The unitary operator of the QFA can be written as an MPO of the following form:\n",
    "\n",
    "$\\hspace{1cm}$$\\mathbf{G} = \\begin{bmatrix} \\sigma_x C_0 & I & \\sigma_x C_1\\end{bmatrix} \\otimes \\begin{bmatrix} C_0 & C_1 & 0 & 0 \\\\ 0 & C_0 & C_1 & 0 \\\\ 0 & 0 & C_0 & C_1 \\end{bmatrix} \\otimes \\begin{bmatrix} C_1 & 0 \\\\ C_0 & 0 \\\\ 0 & C_1 \\\\ 0 & C_0  \\end{bmatrix} \\otimes \\begin{bmatrix} I \\\\ \\sigma_x \\end{bmatrix}$,\n",
    "\n",
    "$\\hspace{0.8cm}$where the matrices in the core elements are given by\n",
    "\n",
    "$\\hspace{1cm}$$I = \\begin{pmatrix} 1 & 0 \\\\ 0 & 1 \\end{pmatrix}, \\quad \\sigma_x = \\begin{pmatrix} 0 & 1 \\\\ 1 & 0 \\end{pmatrix}, \\quad C_0 =  \\begin{pmatrix} 1 & 0 \\\\ 0 & 0 \\end{pmatrix}, \\quad C_1 =  \\begin{pmatrix} 0 & 0 \\\\ 0 & 1 \\end{pmatrix}$.\n",
    "\n",
    "$\\hspace{0.8cm}$Derive a canonical representation of the operator by contracting theMPO cores!\n",
    "\n",
    "**c**)$\\quad$*extra task:* Show that this representation is unitary. Show that $\\mathbf{G}$ actually represents the QFA!\n",
    "\n",
    "**d**)$\\quad$Implement a *quantum full ader network* (QFAN), i.e., a quantum circuit to add $n$-bit numbers, in Qiskit by coupling several QFAs:"
   ]
  },
  {
   "cell_type": "code",
   "execution_count": 2,
   "id": "6b986e09-4215-440f-a577-8b84592a1b86",
   "metadata": {},
   "outputs": [
    {
     "data": {
      "text/html": [
       "<pre style=\"word-wrap: normal;white-space: pre;background: #fff0;line-height: 1.1;font-family: &quot;Courier New&quot;,Courier,monospace\">                    ┌───┐      ░                           ░                           ░ \n",
       "q_0: ────────────■──┤ X ├──────░───────────────────────────░───────────────────────────░─\n",
       "                 │  └─┬─┘      ░                           ░                           ░ \n",
       "q_1: ──■────■────┼────┼────■───░───────────────────────────░───────────────────────────░─\n",
       "       │  ┌─┴─┐  │    │  ┌─┴─┐ ░                           ░                           ░ \n",
       "q_2: ──■──┤ X ├──■────■──┤ X ├─░───────────────────────────░───────────────────────────░─\n",
       "     ┌─┴─┐└───┘┌─┴─┐     └───┘ ░                ┌───┐      ░                           ░ \n",
       "q_3: ┤ X ├─────┤ X ├───────────░─────────────■──┤ X ├──────░───────────────────────────░─\n",
       "     └───┘     └───┘           ░             │  └─┬─┘      ░                           ░ \n",
       "q_4: ──────────────────────────░───■────■────┼────┼────■───░───────────────────────────░─\n",
       "                               ░   │  ┌─┴─┐  │    │  ┌─┴─┐ ░                           ░ \n",
       "q_5: ──────────────────────────░───■──┤ X ├──■────■──┤ X ├─░───────────────────────────░─\n",
       "                               ░ ┌─┴─┐└───┘┌─┴─┐     └───┘ ░                ┌───┐      ░ \n",
       "q_6: ──────────────────────────░─┤ X ├─────┤ X ├───────────░─────────────■──┤ X ├──────░─\n",
       "                               ░ └───┘     └───┘           ░             │  └─┬─┘      ░ \n",
       "q_7: ──────────────────────────░───────────────────────────░───■────■────┼────┼────■───░─\n",
       "                               ░                           ░   │  ┌─┴─┐  │    │  ┌─┴─┐ ░ \n",
       "q_8: ──────────────────────────░───────────────────────────░───■──┤ X ├──■────■──┤ X ├─░─\n",
       "                               ░                           ░ ┌─┴─┐└───┘┌─┴─┐     └───┘ ░ \n",
       "q_9: ──────────────────────────░───────────────────────────░─┤ X ├─────┤ X ├───────────░─\n",
       "                               ░                           ░ └───┘     └───┘           ░ </pre>"
      ],
      "text/plain": [
       "                    ┌───┐      ░                           ░                           ░ \n",
       "q_0: ────────────■──┤ X ├──────░───────────────────────────░───────────────────────────░─\n",
       "                 │  └─┬─┘      ░                           ░                           ░ \n",
       "q_1: ──■────■────┼────┼────■───░───────────────────────────░───────────────────────────░─\n",
       "       │  ┌─┴─┐  │    │  ┌─┴─┐ ░                           ░                           ░ \n",
       "q_2: ──■──┤ X ├──■────■──┤ X ├─░───────────────────────────░───────────────────────────░─\n",
       "     ┌─┴─┐└───┘┌─┴─┐     └───┘ ░                ┌───┐      ░                           ░ \n",
       "q_3: ┤ X ├─────┤ X ├───────────░─────────────■──┤ X ├──────░───────────────────────────░─\n",
       "     └───┘     └───┘           ░             │  └─┬─┘      ░                           ░ \n",
       "q_4: ──────────────────────────░───■────■────┼────┼────■───░───────────────────────────░─\n",
       "                               ░   │  ┌─┴─┐  │    │  ┌─┴─┐ ░                           ░ \n",
       "q_5: ──────────────────────────░───■──┤ X ├──■────■──┤ X ├─░───────────────────────────░─\n",
       "                               ░ ┌─┴─┐└───┘┌─┴─┐     └───┘ ░                ┌───┐      ░ \n",
       "q_6: ──────────────────────────░─┤ X ├─────┤ X ├───────────░─────────────■──┤ X ├──────░─\n",
       "                               ░ └───┘     └───┘           ░             │  └─┬─┘      ░ \n",
       "q_7: ──────────────────────────░───────────────────────────░───■────■────┼────┼────■───░─\n",
       "                               ░                           ░   │  ┌─┴─┐  │    │  ┌─┴─┐ ░ \n",
       "q_8: ──────────────────────────░───────────────────────────░───■──┤ X ├──■────■──┤ X ├─░─\n",
       "                               ░                           ░ ┌─┴─┐└───┘┌─┴─┐     └───┘ ░ \n",
       "q_9: ──────────────────────────░───────────────────────────░─┤ X ├─────┤ X ├───────────░─\n",
       "                               ░                           ░ └───┘     └───┘           ░ "
      ]
     },
     "execution_count": 2,
     "metadata": {},
     "output_type": "execute_result"
    }
   ],
   "source": [
    "n = 3\n",
    "qc = QuantumCircuit(3*n+1)\n",
    "for i in range(n):\n",
    "    qc.ccx(3*i+1,3*i+2,3*i+3)\n",
    "    qc.cx(3*i+1,3*i+2)\n",
    "    qc.ccx(3*i+0,3*i+2,3*i+3)\n",
    "    qc.cx(3*i+2,3*i+0)\n",
    "    qc.cx(3*i+1,3*i+2)\n",
    "    qc.barrier()\n",
    "qc.draw(fold=-1) "
   ]
  },
  {
   "cell_type": "markdown",
   "id": "50a02475-3438-436c-b904-62da8707cc51",
   "metadata": {},
   "source": [
    "$\\hspace{0.8cm}$Simulate the circuit for $n = 1, \\dots, 8$ with 1.000.000 shots after applying Hadamard gates to the qubits $|A_i\\rangle $ and $| B_i \\rangle$ of each QFA. Plot the relative computation time!\n",
    "\n",
    "**e**)$\\quad$Load the corresponding MPO representation ```scikit_tt.models``` by\n",
    "\n",
    "> import scikit_tt.models as mdl\n",
    ">\n",
    "> G = mdl.qfan(n)\n",
    "\n",
    "$\\hspace{0.8cm}$where ```n``` is the number of QFAs.\n",
    "\n",
    "$\\hspace{0.8cm}$The initial quantum state can be expressed as a rank-one tensor. Can you explain why? \n",
    "\n",
    "$\\hspace{0.8cm}$Use the following routine for construction."
   ]
  },
  {
   "cell_type": "code",
   "execution_count": 3,
   "id": "3b5ab505-6a59-4059-9d28-3c4b71247710",
   "metadata": {},
   "outputs": [],
   "source": [
    "from scikit_tt.tensor_train import TT\n",
    "\n",
    "def initial_state(n):\n",
    "    cores = [np.array([1,0]).reshape([1,2,1,1]) for _ in range(3*n+1)]\n",
    "    for i in range(n):\n",
    "        cores[3*i+1] = np.sqrt(0.5)*np.array([1,1]).reshape([1,2,1,1])\n",
    "    init = TT(cores)\n",
    "    return init"
   ]
  },
  {
   "cell_type": "markdown",
   "id": "04dfd8d2-d44c-4db1-9791-04de8fec3b39",
   "metadata": {},
   "source": [
    "$\\hspace{0.8cm}$Repeat the above experiment on a tensor-based level by computing the state tensor $\\mathbf{G} \\mathbf{\\Psi}$, where $\\mathbf{\\Psi}$ is the initial state.\n",
    "\n",
    "$\\hspace{0.8cm}$Use the sampling routine from ```scikit_tt.quantum_computation```:\n",
    "\n",
    "> from scikit_tt.quantum_computation import sampling\n",
    ">\n",
    "> samples, probabilities = sampling(G@init, list(np.arange(3*i+1)), 1000000)\n",
    "\n",
    "$\\hspace{0.8cm}$What do you observe?"
   ]
  }
 ],
 "metadata": {
  "kernelspec": {
   "display_name": "Python 3 (ipykernel)",
   "language": "python",
   "name": "python3"
  },
  "language_info": {
   "codemirror_mode": {
    "name": "ipython",
    "version": 3
   },
   "file_extension": ".py",
   "mimetype": "text/x-python",
   "name": "python",
   "nbconvert_exporter": "python",
   "pygments_lexer": "ipython3",
   "version": "3.11.8"
  }
 },
 "nbformat": 4,
 "nbformat_minor": 5
}
