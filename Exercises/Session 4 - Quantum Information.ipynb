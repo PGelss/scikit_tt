{
 "cells": [
  {
   "cell_type": "markdown",
   "id": "e4f44eb7",
   "metadata": {},
   "source": [
    "<h1 style=\"text-align: center;\"><b>TMQS Workshop 2024</b> @ Zuse Institute Berlin</h1>\n",
    "<h2 style=\"text-align: center;\">Summer School on Tensor Methods for Quantum Simulation</h2>\n",
    "<h2 style=\"text-align: center;\">June 3 - 5, 2024</h2>\n",
    "$\\def\\tcoreleft{\\textcolor{MidnightBlue}{\\Huge⦸}}$\n",
    "$\\def\\tcorecenter{\\textcolor{RedOrange}{\\Huge⦿}}$\n",
    "$\\def\\tcoreright{\\textcolor{MidnightBlue}{\\Huge\\oslash}}$\n",
    "<div style=\"text-align: center; background-color:#D6EAF8;padding-top:20px;padding-bottom:5px\">\n",
    "<table style=\"font-size:16pt\">\n",
    "    <tr style=\"background-color:#D6EAF8;\">\n",
    "        <td>$\\tcoreleft$</td>\n",
    "        <td>$-$</td>\n",
    "        <td>$\\tcoreleft$</td>\n",
    "        <td>$-$</td>\n",
    "        <td>$\\tcoreleft$</td>\n",
    "        <td>$-$</td>\n",
    "        <td>$\\cdots$</td>\n",
    "        <td>$-$</td>\n",
    "        <td>$\\tcorecenter$</td>\n",
    "        <td>$-$</td>\n",
    "        <td>$\\cdots$</td>\n",
    "        <td>$-$</td>\n",
    "        <td>$\\tcoreright$</td>\n",
    "        <td>$-$</td>\n",
    "        <td>$\\tcoreright$</td>\n",
    "    </tr>\n",
    "    <tr style=\"background-color:#D6EAF8;\">\n",
    "        <td style=\"text-align: center;\">$\\tiny\\mid$</td>\n",
    "        <td></td>\n",
    "        <td style=\"text-align: center;\">$\\tiny\\mid$</td>\n",
    "        <td></td>\n",
    "        <td style=\"text-align: center;\">$\\tiny\\mid$</td>\n",
    "        <td></td>\n",
    "        <td></td>\n",
    "        <td></td>\n",
    "        <td style=\"text-align: center;\">$\\tiny\\mid$</td>\n",
    "        <td></td>\n",
    "        <td></td>\n",
    "        <td></td>\n",
    "        <td style=\"text-align: center;\">$\\tiny\\mid$</td>\n",
    "        <td></td>\n",
    "        <td style=\"text-align: center;\">$\\tiny\\mid$</td>\n",
    "    </tr>\n",
    "</table>\n",
    "</div>"
   ]
  },
  {
   "cell_type": "markdown",
   "id": "6f6cc702",
   "metadata": {},
   "source": [
    "***"
   ]
  },
  {
   "cell_type": "markdown",
   "id": "74ce99d5-268a-4ad8-980b-de19d60b6be6",
   "metadata": {},
   "source": [
    "## **Session 4 - Quantum Information**"
   ]
  },
  {
   "cell_type": "markdown",
   "id": "e8441c54-ffd4-45b4-ab04-ff8cf85e6474",
   "metadata": {},
   "source": [
    "***"
   ]
  },
  {
   "cell_type": "markdown",
   "id": "a781c1c8",
   "metadata": {},
   "source": [
    "## Exercise 4.1\n",
    "\n",
    "Which of the following are valid quantum states?\n",
    "\n",
    "$\\hspace{1cm}$$\\begin{pmatrix} 0 \\\\ 1\\end{pmatrix}$, $\\quad \\begin{pmatrix} 1 \\\\ 1\\end{pmatrix}$, $\\quad \\frac{1}{\\sqrt{2}}\\begin{pmatrix} 0 \\\\ -i\\end{pmatrix}$, $\\quad \\frac{1}{\\sqrt{3}}\\begin{pmatrix} 1 \\\\ 2\\end{pmatrix}$, $\\quad \\begin{pmatrix} \\sqrt{2/3} \\\\ i/\\sqrt{3}\\end{pmatrix}$\n",
    "\n",
    "What is the probability to measure $0$ and $1$ for the valid quantum states?"
   ]
  },
  {
   "cell_type": "markdown",
   "id": "6e1b9898-10a5-422d-8cdb-a8f42bdc01c4",
   "metadata": {},
   "source": [
    "***"
   ]
  },
  {
   "cell_type": "markdown",
   "id": "0e8243a2-a54e-4aaf-b460-f1f7f9e369b0",
   "metadata": {},
   "source": [
    "## Exercise 4.2\n",
    "\n",
    "**a)**$\\quad$Write down the state vector of two quantum states \n",
    "\n",
    "$\\hspace{1cm}$$\\displaystyle|\\Psi_1\\rangle = \\alpha_1 |0\\rangle + \\beta_1 |1\\rangle \\quad $ and $\\quad |\\Psi_2\\rangle = \\alpha_2 |0\\rangle + \\beta_2 |1\\rangle$, \n",
    "\n",
    "$\\hspace{0.35cm}$$\\quad$i.e. the tensor product, in the computational basis. Write down the basis vectors of the composite system.\n",
    "\n",
    "**b)**$\\quad$Consider the $2$-qubit state \n",
    "\n",
    "$\\hspace{1cm}$$\\displaystyle|\\Psi\\rangle = \\frac{1}{\\sqrt{2}} |00\\rangle + \\frac{1}{2}|01\\rangle + \\frac{1}{2} |11\\rangle$. \n",
    "\n",
    "$\\hspace{0.35cm}$$\\quad$What is the state after a measurement of the first qubit where you obtain $|0\\rangle$?\n",
    "\n",
    "$\\hspace{0.35cm}$$\\quad$Is this an entangled state?\n",
    "\n",
    "$\\hspace{0.35cm}$$\\quad$*Hint:* Quantum states are normalized!"
   ]
  },
  {
   "cell_type": "markdown",
   "id": "818bf57f-be0c-408a-9776-414578b7763a",
   "metadata": {},
   "source": [
    "***"
   ]
  },
  {
   "cell_type": "markdown",
   "id": "bed85201-1bfb-45a2-a57a-44332f370276",
   "metadata": {},
   "source": [
    "## Exercise 4.3\n",
    "\n",
    "Suppose you have $n + 1$ qubits. We will write $|\\vec{x}\\rangle$ to mean the $n$-qubit classical state given by the number $x$ in binary. For instance, if $n = 2$ then:\n",
    "\n",
    "$\\hspace{0.5cm}$$|\\vec{0}\\rangle = |00\\rangle , \\quad |\\vec{1}\\rangle = |01\\rangle, \\quad |\\vec{2}\\rangle = |10\\rangle, \\quad |\\vec{3}\\rangle = |11\\rangle$.\n",
    "\n",
    "Assume the qubits are in the state\n",
    "\n",
    "$\\hspace{0.5cm}$$\\displaystyle |\\Psi\\rangle = \\frac{1}{\\sqrt{2^n}}  \\sum_{x=0}^{2^n -1} | \\vec{x} \\rangle  \\otimes | x~\\text{mod}~2 \\rangle$.\n",
    "\n",
    "**a)**$\\quad$What is the resulting state if we measure the last qubit and obtain $|0\\rangle$?\n",
    "\n",
    "**b)**$\\quad$What is the resulting state if we measure the last qubit and obtain $|1\\rangle$?"
   ]
  }
 ],
 "metadata": {
  "kernelspec": {
   "display_name": "Python 3 (ipykernel)",
   "language": "python",
   "name": "python3"
  },
  "language_info": {
   "codemirror_mode": {
    "name": "ipython",
    "version": 3
   },
   "file_extension": ".py",
   "mimetype": "text/x-python",
   "name": "python",
   "nbconvert_exporter": "python",
   "pygments_lexer": "ipython3",
   "version": "3.11.8"
  }
 },
 "nbformat": 4,
 "nbformat_minor": 5
}
