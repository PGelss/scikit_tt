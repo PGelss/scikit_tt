{
 "cells": [
  {
   "cell_type": "markdown",
   "id": "e4f44eb7",
   "metadata": {},
   "source": [
    "<h1 style=\"text-align: center;\"><b>TMQS Workshop 2024</b> @ Zuse Institute Berlin</h1>\n",
    "<h2 style=\"text-align: center;\">Summer School on Tensor Methods for Quantum Simulation</h2>\n",
    "<h2 style=\"text-align: center;\">June 3 - 5, 2024</h2>\n",
    "$\\def\\tcoreleft{\\textcolor{MidnightBlue}{\\Huge⦸}}$\n",
    "$\\def\\tcorecenter{\\textcolor{RedOrange}{\\Huge⦿}}$\n",
    "$\\def\\tcoreright{\\textcolor{MidnightBlue}{\\Huge\\oslash}}$\n",
    "<div style=\"text-align: center; background-color:#D6EAF8;padding-top:20px;padding-bottom:5px\">\n",
    "<table style=\"font-size:16pt\">\n",
    "    <tr style=\"background-color:#D6EAF8;\">\n",
    "        <td>$\\tcoreleft$</td>\n",
    "        <td>$-$</td>\n",
    "        <td>$\\tcoreleft$</td>\n",
    "        <td>$-$</td>\n",
    "        <td>$\\tcoreleft$</td>\n",
    "        <td>$-$</td>\n",
    "        <td>$\\cdots$</td>\n",
    "        <td>$-$</td>\n",
    "        <td>$\\tcorecenter$</td>\n",
    "        <td>$-$</td>\n",
    "        <td>$\\cdots$</td>\n",
    "        <td>$-$</td>\n",
    "        <td>$\\tcoreright$</td>\n",
    "        <td>$-$</td>\n",
    "        <td>$\\tcoreright$</td>\n",
    "    </tr>\n",
    "    <tr style=\"background-color:#D6EAF8;\">\n",
    "        <td style=\"text-align: center;\">$\\tiny\\mid$</td>\n",
    "        <td></td>\n",
    "        <td style=\"text-align: center;\">$\\tiny\\mid$</td>\n",
    "        <td></td>\n",
    "        <td style=\"text-align: center;\">$\\tiny\\mid$</td>\n",
    "        <td></td>\n",
    "        <td></td>\n",
    "        <td></td>\n",
    "        <td style=\"text-align: center;\">$\\tiny\\mid$</td>\n",
    "        <td></td>\n",
    "        <td></td>\n",
    "        <td></td>\n",
    "        <td style=\"text-align: center;\">$\\tiny\\mid$</td>\n",
    "        <td></td>\n",
    "        <td style=\"text-align: center;\">$\\tiny\\mid$</td>\n",
    "    </tr>\n",
    "</table>\n",
    "</div>"
   ]
  },
  {
   "cell_type": "markdown",
   "id": "6f6cc702",
   "metadata": {},
   "source": [
    "***"
   ]
  },
  {
   "cell_type": "markdown",
   "id": "74ce99d5-268a-4ad8-980b-de19d60b6be6",
   "metadata": {},
   "source": [
    "## **Session 5 - Quantum Computing**"
   ]
  },
  {
   "cell_type": "markdown",
   "id": "e8441c54-ffd4-45b4-ab04-ff8cf85e6474",
   "metadata": {},
   "source": [
    "***"
   ]
  },
  {
   "cell_type": "markdown",
   "id": "352b5d1e-a082-49c0-a29a-3c73d819a5a5",
   "metadata": {},
   "source": [
    "## Exercise 5.1\n",
    "\n",
    "The qubit polar form is given by $|\\psi\\rangle = \\cos{\\frac{\\theta}{2}} |0\\rangle + e^{i \\varphi} \\sin{\\frac{\\theta}{2}} |1\\rangle$. \n",
    "\n",
    "The first two quantum logic gates, we consider in this exercise are the Hadamard gate $H$ and the phase shift gate $T$:\n",
    "\n",
    "$\\hspace{0.5cm}$$\\displaystyle H = \\frac{1}{\\sqrt{2}} \\begin{bmatrix} 1 & 1 \\\\ 1 & -1\\end{bmatrix} \\qquad $ and $ \\qquad \\displaystyle T = \\begin{bmatrix}1 & 0 \\\\ 0 & e^{i \\frac{\\pi}{4}}\\end{bmatrix}$\n",
    "\n",
    "When applied to a basis state $|0\\rangle$ or $|1\\rangle$, the Hadamard gate transforms the state as follows:\n",
    "\n",
    "$\\hspace{0.5cm}$$\\displaystyle H | 0 \\rangle = \\frac{1}{\\sqrt{2}} \\left( |0\\rangle + |1\\rangle\\right) \\qquad$ and $\\qquad \\displaystyle H | 1 \\rangle = \\frac{1}{\\sqrt{2}} \\left( |0\\rangle - |1\\rangle\\right)$\n",
    "\n",
    "The $T$ gate applies a phase factor to the state $|1\\rangle$, while leaving the state $|0\\rangle$ unchanged:\n",
    "\n",
    "$\\hspace{0.5cm}$$\\displaystyle T | 0 \\rangle = | 0 \\rangle \\qquad$ and $\\qquad \\displaystyle T | 1 \\rangle = e^{i \\frac{\\pi}{4}} | 1 \\rangle$\n",
    "\n",
    "**a)**$\\quad$ Import all necessary packages:"
   ]
  },
  {
   "cell_type": "code",
   "execution_count": 1,
   "id": "4f9f119a-5785-4aaa-a65b-bed55c8656d0",
   "metadata": {},
   "outputs": [],
   "source": [
    "from qiskit.visualization import *\n",
    "from qiskit.quantum_info import Statevector\n",
    "from qiskit import QuantumCircuit, transpile\n",
    "from qiskit_aer import AerSimulator"
   ]
  },
  {
   "cell_type": "markdown",
   "id": "47fc839a",
   "metadata": {},
   "source": [
    "$\\hspace{0.8cm}$and create a quantum circuit consisting of one qubit by \n",
    "\n",
    "> qc = QuantumCircuit(1)\n",
    "\n",
    "$\\hspace{0.8cm}$Apply a Hadamard gate and a T gate:\n",
    "\n",
    "> qc.h(0), qc.t(0)\n",
    "\n",
    "$\\hspace{0.8cm}$Draw the quantum circuit using \n",
    "\n",
    "> qc.draw() \n",
    "\n",
    "$\\hspace{0.8cm}$and plot the Bloch vector of the quantum state at each stage using\n",
    "\n",
    "> plot_bloch_multivector(Statevector(qc))\n",
    "\n",
    "$\\hspace{0.8cm}$Write down the polar form of the quantum state at each step of the circuit.\n",
    "\n",
    "**b)**$\\quad$Now, we want to measure our qubit using\n",
    "\n",
    "> qc.measure_all()\n",
    "\n",
    "$\\hspace{0.8cm}$To do this, we choose a simulator backend, which is responsible for simulating the execution of the circuit. \n",
    "\n",
    "$\\hspace{0.8cm}$The simulator plays a crucial role in simulating the behavior of a quantum circuit. \n",
    "\n",
    "$\\hspace{0.8cm}$It allows you to run quantum circuits on a classical computer and obtain the expected outcomes of the circuit without requiring a physical quantum device. \n",
    "\n",
    "$\\hspace{0.8cm}$Here, we choose the qasm_simulator, which simulates the execution of the circuit using a classical computer and provides the measurement statistics:\n",
    "\n",
    "> backend = AerSimulator()\n",
    "\n",
    "$\\hspace{0.8cm}$We then transpile, i.e., optimize a quantum circuit for a specific backend, and execute the circuit on the simulator by passing the circuit to the run function.\n",
    "\n",
    "$\\hspace{0.8cm}$We also specify the number of shots to simulate, which determines the number of times the circuit is executed to obtain statistical results.\n",
    "\n",
    "> qc = transpile(qc, backend)\n",
    "> \n",
    "> job = backend.run(qc, shots=10000)\n",
    "\n",
    "$\\hspace{0.8cm}$Finally, we get the results of the simulation using the result method, and extract the measurement statistics using the get_counts method:\n",
    "\n",
    "> result = job.result()\n",
    "\n",
    "> counts = result.get_counts(qc)\n",
    "\n",
    "$\\hspace{0.8cm}$The measurement statistics represent the probabilities of observing each possible measurement outcome.\n",
    "\n",
    "$\\hspace{0.8cm}$They are obtained by running the circuit multiple times and counting the number of times each outcome is observed.\n",
    "\n",
    "$\\hspace{0.8cm}$The histogram of the counts data can be plotted by using\n",
    "\n",
    "> plot_histogram(counts)\n",
    "\n",
    "$\\hspace{0.8cm}$What happens if we measure the quantum state after the H gate, what if we measure after the T gate. Explain!\n",
    "\n",
    "**c)**$\\quad$How can we measure the relative phase $\\varphi$?\n",
    "\n",
    "$\\hspace{0.8cm}$*Hint:* We need just one additional gate.\n",
    "\n",
    "**d)**$\\quad$*extra task:* Show that any state $|\\psi\\rangle = \\alpha |0\\rangle + \\beta |1 \\rangle$ with $|\\alpha|^2 + |\\beta|^2 = 1$ can be written in the polar form (up to a global phase)."
   ]
  },
  {
   "cell_type": "markdown",
   "id": "d980f769-6854-4d71-a713-e219ddea1f65",
   "metadata": {},
   "source": [
    "***"
   ]
  },
  {
   "cell_type": "markdown",
   "id": "ddf38779",
   "metadata": {},
   "source": [
    "### Exercise 5.2\n",
    "\n",
    "Now, we want to construct some specific states. The quantum logic gates which come now into play are the Pauli-$Z$ gate, the Pauli-$X$ (NOT) gate, and the CNOT gate:\n",
    "\n",
    "$\\hspace{0.5cm}$$\\displaystyle Z = \\begin{bmatrix} 1 & 0 \\\\ 0 & -1\\end{bmatrix}$, $\\qquad \\displaystyle \\text{NOT} = \\begin{bmatrix} 0& 1\\\\ 1 & 0 \\end{bmatrix}$, $\\qquad \\displaystyle \\text{CNOT} = \\begin{bmatrix}1 & 0 & 0 & 0\\\\ 0 & 1 & 0 & 0 \\\\ 0 & 0 & 0& 1\\\\ 0 & 0 & 1 & 0 \\end{bmatrix}$\n",
    "\n",
    "The $Z$ gate flips the phase of the basis state $|1\\rangle$ while the NOT gate (sometimes called bit-flip) maps \n",
    "$|0\\rangle$ to $|1\\rangle$ and $|1\\rangle$ to $|0\\rangle$.\n",
    "\n",
    "The CNOT (controlled NOT) gate acts on 2 qubits and performs the NOT operation on the second qubit only when the first qubit is $|1\\rangle$.\n",
    "\n",
    "<br/>\n",
    "\n",
    "**a)**$\\quad$Construct the Bell state $\\displaystyle |\\Phi^+\\rangle = \\frac{|00\\rangle + |11\\rangle}{\\sqrt{2}} $. To do so, create a quantum circuit with two qubits and and use one Hadamard gate and one CNOT gate:\n",
    "\n",
    "> qc.cx(0,1)\n",
    "\n",
    "$\\hspace{0.8cm}$where the first argument is the control qubit. Draw the circuit, measure the final state, and plot the histogram\n",
    "\n",
    "**b)**$\\quad$How can we construct the other Bell states?\n",
    "\n",
    "$\\hspace{1cm}$$\\displaystyle|\\Phi^-\\rangle = \\frac{|00\\rangle - |11\\rangle}{\\sqrt{2}} $, $\\qquad \\displaystyle|\\Psi^+\\rangle = \\frac{|01\\rangle + |10\\rangle}{\\sqrt{2}} $, $\\qquad \\displaystyle|\\Psi^-\\rangle = \\frac{|01\\rangle - |10\\rangle}{\\sqrt{2}} $\n",
    "\n",
    "**c)**$\\quad$In quantum computing, oracles play a crucial role in many quantum algorithms. \n",
    "\n",
    "$\\hspace{0.8cm}$An oracle is a black box subroutine used to perform a specific computation on a quantum state. \n",
    "\n",
    "$\\hspace{0.8cm}$Find an oracle $U$, i.e., a unitary operation, acting on three qubits corresponding to the following truth table:\n",
    "\n",
    "|    | Input | Output |\n",
    "| -- | ----- | ------ |\n",
    "| 0  | 000   | 000    |\n",
    "| 1  | 001   | 001    |\n",
    "| 2  | 010   | 011    |\n",
    "| 3  | 011   | 010    |\n",
    "| 4  | 100   | 111    |\n",
    "| 5  | 101   | 110    |\n",
    "| 6  | 110   | 100    |\n",
    "| 7  | 111   | 101    |\n",
    "\n",
    "\n",
    "$\\hspace{0.8cm}$Write down the matrix representation! What does the circuit look like?\n",
    "\n",
    "**d)**$\\quad$*extra task:* What kind of gate is expressed by the following circuit? Here, 'tdg' denotes the adjoint of the T gate."
   ]
  },
  {
   "cell_type": "code",
   "execution_count": 8,
   "id": "b5856bd8-fced-4218-bdc3-df61b56e5fdf",
   "metadata": {},
   "outputs": [
    {
     "data": {
      "text/html": [
       "<pre style=\"word-wrap: normal;white-space: pre;background: #fff0;line-height: 1.1;font-family: &quot;Courier New&quot;,Courier,monospace\">                                                               ┌───┐       \n",
       "q_0: ───────────────────■─────────────────────■───────────■────┤ T ├────■──\n",
       "                        │                     │   ┌───┐ ┌─┴─┐ ┌┴───┴┐ ┌─┴─┐\n",
       "q_1: ───────■───────────┼─────────■───────────┼───┤ T ├─┤ X ├─┤ Tdg ├─┤ X ├\n",
       "     ┌───┐┌─┴─┐┌─────┐┌─┴─┐┌───┐┌─┴─┐┌─────┐┌─┴─┐ ├───┤ ├───┤ └─────┘ └───┘\n",
       "q_2: ┤ H ├┤ X ├┤ Tdg ├┤ X ├┤ T ├┤ X ├┤ Tdg ├┤ X ├─┤ T ├─┤ H ├──────────────\n",
       "     └───┘└───┘└─────┘└───┘└───┘└───┘└─────┘└───┘ └───┘ └───┘              </pre>"
      ],
      "text/plain": [
       "                                                               ┌───┐       \n",
       "q_0: ───────────────────■─────────────────────■───────────■────┤ T ├────■──\n",
       "                        │                     │   ┌───┐ ┌─┴─┐ ┌┴───┴┐ ┌─┴─┐\n",
       "q_1: ───────■───────────┼─────────■───────────┼───┤ T ├─┤ X ├─┤ Tdg ├─┤ X ├\n",
       "     ┌───┐┌─┴─┐┌─────┐┌─┴─┐┌───┐┌─┴─┐┌─────┐┌─┴─┐ ├───┤ ├───┤ └─────┘ └───┘\n",
       "q_2: ┤ H ├┤ X ├┤ Tdg ├┤ X ├┤ T ├┤ X ├┤ Tdg ├┤ X ├─┤ T ├─┤ H ├──────────────\n",
       "     └───┘└───┘└─────┘└───┘└───┘└───┘└─────┘└───┘ └───┘ └───┘              "
      ]
     },
     "execution_count": 8,
     "metadata": {},
     "output_type": "execute_result"
    }
   ],
   "source": [
    "circuit = QuantumCircuit(3)\n",
    "circuit.h(2)\n",
    "circuit.cx(1,2)\n",
    "circuit.tdg(2)\n",
    "circuit.cx(0,2)\n",
    "circuit.t(2)\n",
    "circuit.cx(1,2)\n",
    "circuit.tdg(2)\n",
    "circuit.cx(0,2)\n",
    "circuit.barrier()\n",
    "circuit.t(1)\n",
    "circuit.t(2)\n",
    "circuit.barrier()\n",
    "circuit.h(2)\n",
    "circuit.cx(0,1)\n",
    "circuit.barrier()\n",
    "circuit.t(0)\n",
    "circuit.tdg(1)\n",
    "circuit.barrier()\n",
    "circuit.cx(0,1)\n",
    "circuit.draw(plot_barriers = False) "
   ]
  },
  {
   "cell_type": "markdown",
   "id": "c072e544-570f-4949-bd2b-d9c13df9bb23",
   "metadata": {},
   "source": [
    "$\\hspace{0.8cm}$*Hint:* For states of the form $|11x\\rangle$, we have $|110\\rangle \\mapsto |111\\rangle$ and $|111\\rangle \\mapsto |110\\rangle$. What happens with quantum states of different form?"
   ]
  }
 ],
 "metadata": {
  "kernelspec": {
   "display_name": "Python 3 (ipykernel)",
   "language": "python",
   "name": "python3"
  },
  "language_info": {
   "codemirror_mode": {
    "name": "ipython",
    "version": 3
   },
   "file_extension": ".py",
   "mimetype": "text/x-python",
   "name": "python",
   "nbconvert_exporter": "python",
   "pygments_lexer": "ipython3",
   "version": "3.11.8"
  }
 },
 "nbformat": 4,
 "nbformat_minor": 5
}
