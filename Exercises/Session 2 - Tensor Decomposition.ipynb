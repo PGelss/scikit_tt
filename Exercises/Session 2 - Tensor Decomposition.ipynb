{
 "cells": [
  {
   "cell_type": "markdown",
   "id": "e4f44eb7",
   "metadata": {},
   "source": [
    "<h1 style=\"text-align: center;\"><b>TMQS Workshop 2024</b> @ Zuse Institute Berlin</h1>\n",
    "<h2 style=\"text-align: center;\">Summer School on Tensor Methods for Quantum Simulation</h2>\n",
    "<h2 style=\"text-align: center;\">June 3 - 5, 2024</h2>\n",
    "$\\def\\tcoreleft{\\textcolor{MidnightBlue}{\\Huge⦸}}$\n",
    "$\\def\\tcorecenter{\\textcolor{RedOrange}{\\Huge⦿}}$\n",
    "$\\def\\tcoreright{\\textcolor{MidnightBlue}{\\Huge\\oslash}}$\n",
    "<div style=\"text-align: center; background-color:#D6EAF8;padding-top:20px;padding-bottom:5px\">\n",
    "<table style=\"font-size:16pt\">\n",
    "    <tr style=\"background-color:#D6EAF8;\">\n",
    "        <td>$\\tcoreleft$</td>\n",
    "        <td>$-$</td>\n",
    "        <td>$\\tcoreleft$</td>\n",
    "        <td>$-$</td>\n",
    "        <td>$\\tcoreleft$</td>\n",
    "        <td>$-$</td>\n",
    "        <td>$\\cdots$</td>\n",
    "        <td>$-$</td>\n",
    "        <td>$\\tcorecenter$</td>\n",
    "        <td>$-$</td>\n",
    "        <td>$\\cdots$</td>\n",
    "        <td>$-$</td>\n",
    "        <td>$\\tcoreright$</td>\n",
    "        <td>$-$</td>\n",
    "        <td>$\\tcoreright$</td>\n",
    "    </tr>\n",
    "    <tr style=\"background-color:#D6EAF8;\">\n",
    "        <td style=\"text-align: center;\">$\\tiny\\mid$</td>\n",
    "        <td></td>\n",
    "        <td style=\"text-align: center;\">$\\tiny\\mid$</td>\n",
    "        <td></td>\n",
    "        <td style=\"text-align: center;\">$\\tiny\\mid$</td>\n",
    "        <td></td>\n",
    "        <td></td>\n",
    "        <td></td>\n",
    "        <td style=\"text-align: center;\">$\\tiny\\mid$</td>\n",
    "        <td></td>\n",
    "        <td></td>\n",
    "        <td></td>\n",
    "        <td style=\"text-align: center;\">$\\tiny\\mid$</td>\n",
    "        <td></td>\n",
    "        <td style=\"text-align: center;\">$\\tiny\\mid$</td>\n",
    "    </tr>\n",
    "</table>\n",
    "</div>"
   ]
  },
  {
   "cell_type": "markdown",
   "id": "58a30939-f570-45cd-a736-d6f21aeb2a0c",
   "metadata": {},
   "source": [
    "***"
   ]
  },
  {
   "cell_type": "markdown",
   "id": "6c3441f3-b5a9-42c4-ba21-2bc682b0d8ac",
   "metadata": {},
   "source": [
    "## **Session 2 - Tensor Decomposition**"
   ]
  },
  {
   "cell_type": "markdown",
   "id": "6f6cc702",
   "metadata": {},
   "source": [
    "***"
   ]
  },
  {
   "attachments": {},
   "cell_type": "markdown",
   "id": "858a33fe-e16e-4dbb-b369-511d7c71fe71",
   "metadata": {},
   "source": [
    "## Exercise 2.1\n",
    "\n",
    "In general, the question of whether a given tensor can be represented in a low-rank form is very challenging. The following (small!) example shall illustrate this.\n",
    "\n",
    "**a)**$\\quad$Consider the order-3 tensor $T \\in \\mathbb{R}^{2 \\times 2 \\times 2}$ given by\n",
    "\n",
    "$\\hspace{1.25cm}$$T_{:, :, 1} = \\begin{pmatrix} 1 & 0 \\\\ 0 & 1\\end{pmatrix}$ and $T_{:, :, 2} = \\begin{pmatrix} 0 & 1 \\\\ 1 & 0\\end{pmatrix}$.\n",
    "\n",
    "$\\hspace{0.75cm}$Find a canonical decomposition with minimum rank!\n",
    "\n",
    "$\\hspace{0.75cm}$*Hint:* Both matrices are circulant. That is, they share the same eigenvectors (Fourier modes!).\n",
    "\n",
    "**b)**$\\quad$*extra task:* Let $T \\in \\mathbb{R}^{n \\times n \\times n}$ with $T_{:,:,k} = S^{k-1}$, where $S = \\begin{pmatrix} 0 & & & 1 \\\\ 1 & 0 & & \\\\ & \\ddots & \\ddots & \\\\ 0 & & 1 & 0 \\end{pmatrix}$. What is the canonical rank of $T$?"
   ]
  },
  {
   "cell_type": "markdown",
   "id": "bc6abad4-3b47-447c-9e87-86b44381164b",
   "metadata": {},
   "source": [
    "***"
   ]
  },
  {
   "attachments": {},
   "cell_type": "markdown",
   "id": "c7140595-9875-4201-ad30-e186a6722ff8",
   "metadata": {},
   "source": [
    "## Exercise 2.2 \n",
    "\n",
    "We now want to consider a very well-known model in statistical physics: the Ising model. The Ising model is a simple mathematical model used to study phase transitions in magnetic systems. It consists of a lattice arrangement of spins, each of which can point \"up\" or \"down\", and interactions between neighboring spins.\n",
    "\n",
    "The Hamiltonian function (i.e., the energy of a configuration) for the Ising model can be expressed as follows:\n",
    "\n",
    "$\\hspace{1cm}$$ \\displaystyle H(\\sigma )=- J \\sum _{\\langle ij\\rangle }\\sigma _{i}\\sigma _{j}-h \\sum _{j} \\sigma _{j}$.\n",
    "\n",
    "Here, $\\sigma_i$ and $\\sigma_j$ represent the spins at lattice points $i$ and $j$, respectively, where $1 \\leq i,j \\leq d$. $J$ is the interaction constant between spins, $h$ represents the external magnetic field, and the summation is over neighboring lattice points $i$ and $j$.\n",
    "\n",
    "Since this is a system with nearest-neighbor interactions, we can represent it using a (non-cyclic) SLIM decomposition. \n",
    "\n",
    "**a)**$\\quad$Find the vectors $S$, $L$, $I$, and $M$ such that the tensor train defined by\n",
    "\n",
    "$\\hspace{1.25cm}$$\\displaystyle \\mathbf{H} = \\begin{bmatrix} S & L & I\\end{bmatrix} \\otimes \\begin{bmatrix} I & 0& 0\\\\ M & 0& 0\\\\ S & L & I \\end{bmatrix} \\otimes \\dots \\otimes \\begin{bmatrix} I & 0& 0\\\\ M & 0& 0\\\\ S & L & I \\end{bmatrix} \\otimes \\begin{bmatrix} I\\\\ M\\\\ S\\end{bmatrix}$\n",
    "\n",
    "$\\hspace{0.75cm}$satisfies $\\mathbf{H}_{\\nu_1, \\dots, \\nu_d} = H(\\sigma_1, \\dots, \\sigma_d)$, where\n",
    "\n",
    "$\\hspace{1.25cm}$$\\nu_i = \\begin{cases} 1 & \\text{if}~\\sigma_i = +1, \\\\ 2 & \\text{if}~\\sigma_i=-1.\\end{cases}$\n",
    "\n",
    "$\\hspace{0.75cm}$Compare your result with Ising model representation provided by Scikit-TT (use $J=h=1$ and $d=5$):\n",
    "\n",
    "$\\hspace{1.25cm}$1) Import ```scikit_tt.tensor_train``` as ```tt```.\n",
    "\n",
    "$\\hspace{1.25cm}$2) Use tt.build_core for constructing the cores of $\\mathbf{H}$, e.g., ```cores[i] = tt.build_core([[I, 0, 0], [M, 0, 0], [S, L, I]])``` for $i=1,2,3$.\n",
    "\n",
    "$\\hspace{1.25cm}$3) Create the class instance by  ```H = TT(cores)```.\n",
    "\n",
    "$\\hspace{1.25cm}$4) Import ```scikit_tt.models``` as ```mdl``` and load the model from Scikit-TT by ```H_SKTT = mdl.ising(d,J,h)```.\n",
    "\n",
    "$\\hspace{1.25cm}$5) Compute the error in the Frobenius norm: ```(H-H_SKTT).norm()```.\n",
    "\n",
    "**b)**$\\quad$*extra task:* The configuration probability, i.e., the probability that the system is in a state $\\sigma$ in equilibrium, is given by\n",
    "\n",
    "$\\hspace{1.25cm}$$\\pi(\\sigma) = \\frac{e^{- \\beta H(\\sigma)}}{Z}$,\n",
    "\n",
    "$\\hspace{0.75cm}$where $Z = \\sum_{\\sigma} e^{-\\beta H(\\sigma)}$ is a normalization constant and $\\beta = 1/(k_B \\cdot T)$ is the inverse temperature with Boltzmann constant $k_B$. \n",
    "\n",
    "$\\hspace{0.75cm}$Suppose $\\beta=1$, can you derive a TT decomposition for $\\pi$?"
   ]
  },
  {
   "cell_type": "markdown",
   "id": "179c2c04-c06d-4478-9eca-b662e7fa21ac",
   "metadata": {},
   "source": [
    "***"
   ]
  },
  {
   "attachments": {},
   "cell_type": "markdown",
   "id": "2e657e1a-f617-4540-89c8-3a51c6cc7ad6",
   "metadata": {},
   "source": [
    "## Exercise 2.3\n",
    "\n",
    "You've already seen that any arbitrary tensor can be converted into the TT format. Let's try this out practically now. Create a random tensor with order $d$ and mode dimensions $n$:\n",
    "\n",
    "> T = np.random.random_sample(d*[n])\n",
    "\n",
    "First, we reshape $T$ into a matrix, thereby defining the \"residual tensor\" $T_{\\text{res}}$:\n",
    "\n",
    "> T_res = T.reshape([n, n**(d-1)])\n",
    "\n",
    "Now we need to write a for loop in which, at each step, one mode is separated, and the remaining matrix $T_\\text{res}$ is reshaped.\n",
    "\n",
    "Assume $T_\\text{res}$ is a $r*n \\times n^e$ matrix with $r \\in \\mathbb{N}$ and $e \\leq d-1$.\n",
    "\n",
    "To isolate the mode, we apply a (reduced) QR decomposition. The matrix $Q$ then forms the TT core for the separated mode, and the matrix $R$ represents the new residual tensor:\n",
    "\n",
    "> Q, R = np.linalg.qr(T_res)\n",
    "> \n",
    "> s = Q.shape[1]\n",
    "> \n",
    "> core = Q.reshape([r, n, 1, s])\n",
    "> \n",
    "> T_res = R.reshape([s * n, n**(e-1)])\n",
    "\n",
    "Try it for various values ​​of d and n, but initially don't choose them too large. What do you notice when you look at the TT ranks?"
   ]
  }
 ],
 "metadata": {
  "kernelspec": {
   "display_name": "Python 3 (ipykernel)",
   "language": "python",
   "name": "python3"
  },
  "language_info": {
   "codemirror_mode": {
    "name": "ipython",
    "version": 3
   },
   "file_extension": ".py",
   "mimetype": "text/x-python",
   "name": "python",
   "nbconvert_exporter": "python",
   "pygments_lexer": "ipython3",
   "version": "3.11.8"
  }
 },
 "nbformat": 4,
 "nbformat_minor": 5
}
