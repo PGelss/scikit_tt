{
 "cells": [
  {
   "cell_type": "markdown",
   "id": "e4f44eb7",
   "metadata": {},
   "source": [
    "$\\def\\tcoreleft{\\underset{\\tiny\\mid}{\\textcolor{MidnightBlue}{⦸}}}$\n",
    "$\\def\\tcorecenter{\\underset{\\tiny\\mid}{\\textcolor{RedOrange}{⦿}}}$\n",
    "$\\def\\tcoreright{\\underset{\\tiny\\mid}{\\textcolor{MidnightBlue}{\\oslash}}}$\n",
    "<h1 style=\"text-align: center;\"><b>TMQS Workshop 2024</b> @ Zuse Institute Berlin</h1>\n",
    "<h2 style=\"text-align: center;\">Summer School on Tensor Methods for Quantum Simulation</h2>\n",
    "<h2 style=\"text-align: center;\">June 3 - 5, 2024</h2>\n",
    "<h1 style=\"text-align: center; background-color:#D6EAF8 ;padding:50px\">$\\tcoreleft - \\tcoreleft - \\tcoreleft - \\cdots - \\tcorecenter - \\cdots - \\tcoreright - \\tcoreright$</h1>\n",
    "</br>"
   ]
  },
  {
   "cell_type": "markdown",
   "id": "58a30939-f570-45cd-a736-d6f21aeb2a0c",
   "metadata": {},
   "source": [
    "***"
   ]
  },
  {
   "cell_type": "markdown",
   "id": "6c3441f3-b5a9-42c4-ba21-2bc682b0d8ac",
   "metadata": {},
   "source": [
    "## **Session 1 - Tensor Basics**"
   ]
  },
  {
   "cell_type": "markdown",
   "id": "6f6cc702",
   "metadata": {},
   "source": [
    "***"
   ]
  },
  {
   "attachments": {},
   "cell_type": "markdown",
   "id": "c8096861-c33f-49b8-9bda-62529ce31bc3",
   "metadata": {},
   "source": [
    "## Exercise 1.1\n",
    "\n",
    "... a bit of theory to begin with.\n",
    "\n",
    "The following exercises are intended to demonstrate to you that one can handle tensors in a very natural way, much like with classical vectors and matrices. In the end, standard linear algebra provides the foundational understanding necessary to grasp the concepts of tensors effectively. By extending basic concepts, tensors offer a powerful framework for describing and manipulating multidimensional data in various fields such as physics, engineering, and machine learning.\n",
    "\n",
    "Suppose $T$ and $U$ are tensors in $\\mathbb{C}^{N}$, where $N = (n_1, \\dots , n_d)$ and $d \\in \\mathbb{N}$. Furthermore, let $G, H \\in \\mathbb{C}^{N \\times N}$. Show that\n",
    "\n",
    "**a)**$\\quad T^\\dagger \\cdot U = \\langle \\text{vec}(T), \\text{vec}(U) \\rangle$\n",
    "\n",
    "**b)**$\\quad \\lVert T \\rVert_F = \\lVert \\text{vec}(T) \\rVert_2$\n",
    "\n",
    "**c)**$\\quad \\text{tr}(G^\\dagger \\cdot H) = \\langle \\text{vec}(G), \\text{vec}(H) \\rangle$"
   ]
  },
  {
   "cell_type": "markdown",
   "id": "bc6abad4-3b47-447c-9e87-86b44381164b",
   "metadata": {},
   "source": [
    "***"
   ]
  },
  {
   "cell_type": "markdown",
   "id": "11976a26-d5e7-4ca5-b02b-ce4709527c8c",
   "metadata": {},
   "source": [
    "$\\textcolor{red}{\\textbf{SOLUTION:}}$"
   ]
  },
  {
   "cell_type": "markdown",
   "id": "742e700e-8485-4923-870b-d34994d2978b",
   "metadata": {},
   "source": [
    "**a)**$\\quad$$T^\\dagger \\cdot U = \\sum_{i_1 = 1}^{n_1} \\cdot \\sum_{i_d = 1}^{n_d} \\overline{T}_{i_1, \\dots, i_d} \\cdot U_{i_1, \\dots, i_d} = \\sum_{i=1}^{n_1 \\cdot \\ldots \\cdot n_d} \\overline{\\text{vec}(T)_i} \\cdot \\text{vec}(U)_i = \\langle \\text{vec}(T), \\text{vec}(U) \\rangle$\n",
    "\n",
    "**b)**$\\quad$$\\lVert T \\rVert_F^2 = \\sum_{i_1 = 1}^{n_1} \\cdots \\sum_{i_d = 1}^{n_d} |T_{i_1, \\dots, i_d}|^2 = \\sum_{i=1}^{n_1 \\cdot \\ldots \\cdot n_d} |\\text{vec}(T)_i|^2 = \\lVert \\text{vec}(T) \\rVert_2^2$\n",
    "\n",
    "**c)**$\\quad$$\\text{tr}(G^\\dagger \\cdot H) = \\sum_{i_1=1}^{n_1} \\cdots \\sum_{i_d=1}^{n_d} \\sum_{j_1=1}^{n_1} \\cdots \\sum_{j_d=1}^{n_d} G^\\dagger_{i_1, \\dots, i_d, j_1 , \\dots, j_d} \\cdot H_{j_1, \\dots, j_d, i_1, \\dots, i_d} = \\sum_{i=1}^{n_1^2 \\cdot \\ldots \\cdot n_d^2} \\overline{\\text{vec}(G)_i} \\cdot \\text{vec}(H)_i = \\langle \\text{vec}(G), \\text{vec}(H) \\rangle$"
   ]
  },
  {
   "cell_type": "markdown",
   "id": "57638421-d883-4f7f-ab0f-aae0505cffca",
   "metadata": {},
   "source": [
    "***"
   ]
  },
  {
   "attachments": {},
   "cell_type": "markdown",
   "id": "41a28d39-ecbe-4a8b-9ed0-161d36c14c73",
   "metadata": {},
   "source": [
    "## Exercise 1.2 \n",
    "\n",
    "... now onto the basic implementation\n",
    "\n",
    "We turn to the practical implementation of tensors and their limitations. Tensors in full format can be easily created and multiplied/contracted in Python using the standard package NumPy:\n",
    "\n",
    "> import numpy as np\n",
    "\n",
    "In addition, we also need the Matplotlib and time package for this task:\n",
    "\n",
    "> import matplotlib.pyplot as plt\n",
    "> \n",
    "> import time\n",
    "\n",
    "Create random order-$d$ tensors in $\\mathbb{R}^{N \\times N}$ with $N=(2,\\dots,2)$ for different dimensions $d = 1, 2, \\dots, 10$:\n",
    "\n",
    "> T = np.random.random_sample(2*d*[2])\n",
    "\n",
    "Compute the storage (```T.size * T.itemsize```) of every instance and plot the results:\n",
    "\n",
    "> plt.plot(np.arange(1,11), storage)\n",
    "\n",
    "Rerun the expriment and reshape every instance into an array in $\\mathbb{R}^{2^d \\times 2^d}$ and compute an SVD:\n",
    "\n",
    "> T_mat = T.reshape([2** d, 2**d])\n",
    ">\n",
    "> U, S, Vt = np.linalg.svd(T)\n",
    "\n",
    "Measure the CPU time using:\n",
    "\n",
    "> start_time = time.time()\n",
    ">\n",
    "> ...\n",
    ">\n",
    "> end_time = time.time() - start_time\n",
    "\n",
    "Plot the results and interpret both plots in terms of storage consumption and computational complexity, respectively. Given a matrix $M \\in \\mathbb{R}^{m \\times n}$, $m \\geq n$, the overall cost for computing an SVD is $O(m n^2)$."
   ]
  },
  {
   "cell_type": "markdown",
   "id": "83e132fb-95b5-43a8-98ca-0ed7c397767d",
   "metadata": {},
   "source": [
    "***"
   ]
  },
  {
   "cell_type": "markdown",
   "id": "1cb59312-1033-4dd0-886c-7a034eae661b",
   "metadata": {},
   "source": [
    "$\\textcolor{red}{\\textbf{SOLUTION:}}$"
   ]
  },
  {
   "cell_type": "code",
   "execution_count": 12,
   "id": "f5ca5182-ecb4-4b2b-815b-4b7c44af9920",
   "metadata": {},
   "outputs": [
    {
     "data": {
      "text/plain": [
       "[<matplotlib.lines.Line2D at 0x2166f401250>]"
      ]
     },
     "execution_count": 12,
     "metadata": {},
     "output_type": "execute_result"
    },
    {
     "data": {
      "image/png": "[encoded data removed]",
      "text/plain": [
       "<Figure size 640x480 with 1 Axes>"
      ]
     },
     "metadata": {},
     "output_type": "display_data"
    },
    {
     "data": {
      "image/png": "[encoded data removed]",
      "text/plain": [
       "<Figure size 640x480 with 1 Axes>"
      ]
     },
     "metadata": {},
     "output_type": "display_data"
    }
   ],
   "source": [
    "import numpy as np\n",
    "import time\n",
    "import matplotlib.pyplot as plt\n",
    "\n",
    "storage = []\n",
    "times = []\n",
    "for d in range(1,11):\n",
    "    T = np.random.random_sample(2*d*[2])\n",
    "    storage.append(T.size*T.itemsize/1e6)\n",
    "    T = T.reshape([2**d, 2**d])\n",
    "    start_time = time.time()\n",
    "    U, S, Vt = np.linalg.svd(T)\n",
    "    end_time = time.time() - start_time\n",
    "    times.append(end_time)\n",
    "\n",
    "plt.figure()\n",
    "plt.title('storage consumption')\n",
    "plt.xlabel('d')\n",
    "plt.ylabel('memory in MB')\n",
    "plt.plot(np.arange(1,11), storage)\n",
    "\n",
    "plt.figure()\n",
    "plt.title('computational time')\n",
    "plt.xlabel('d')\n",
    "plt.ylabel('time in s')\n",
    "plt.plot(np.arange(1,11), times)"
   ]
  },
  {
   "cell_type": "markdown",
   "id": "e827c10b-ffbd-4687-8647-ba488b100e61",
   "metadata": {},
   "source": [
    "***"
   ]
  },
  {
   "attachments": {},
   "cell_type": "markdown",
   "id": "75fa57e8-6077-4b07-ad00-06251ba6a395",
   "metadata": {},
   "source": [
    "## Exercise 1.3 \n",
    "\n",
    "Lastly, we will create a special form of tensor, sometimes called the delta tensor. We define $\\Delta \\in \\mathbb{R}^{n \\times n \\times n}$ as\n",
    "\n",
    "$\\hspace{1cm}$$\\Delta_{i,j,k} = \\begin{cases} 1 & \\text{if}~i=j=k\\\\ 0& \\text{otherwise.}\\end{cases}$\n",
    "\n",
    "Now, we want to try various contractions with this tensor. To do this, let's choose $n=3$ and additionally define the vectors $v=(1,2,3)$ and $w=(4,5,6)$.\n",
    "\n",
    "Use NumPy's einsum function to compute the following contractions:\n",
    "\n",
    "\\begin{array}{}\n",
    "  &   &   &   &   &                    &         & v &           &                    &   &         &   &           &   \\\\\n",
    "  &   &   &   &   &                    &         & | &           &                    &   &         & | &           &   \\\\\n",
    "- & D & = & D & - & \\qquad\\qquad\\qquad &         & D &           & \\qquad\\qquad\\qquad &   &         & D &           &   \\\\\n",
    "  &   &   &   &   &                    & \\diagup &   & \\diagdown &                    &   & \\diagup &   & \\diagdown &   \\\\\n",
    "  &   &   &   &   &                    &         &   &           &                    & v &         &   &           & w\n",
    "\\end{array}\n",
    "\n",
    "Examine the results and try to explain how they arise.\n",
    "\n",
    "*Hint:* In order to contract two or more tensors with NumPy's einsum function, assign a variable (```i, j, k, ...```) to each mode of the tensors. Modes that are to be contracted receive the same variables. Example: ```np.einsum('ijk, jl -> ikl', T_1, T_2)``` contracts an order-3 tensor $T_1$ and a matrix $T_2$ on a common mode (second of $T_1$, first of $T_2$). The result is again an order-3 tensor."
   ]
  },
  {
   "cell_type": "markdown",
   "id": "e79e857f-b2db-47b6-8744-b42bba78f683",
   "metadata": {},
   "source": [
    "***"
   ]
  },
  {
   "cell_type": "markdown",
   "id": "cfcbcb79-d6db-4fb0-a2d7-14236ba0ef52",
   "metadata": {},
   "source": [
    "$\\textcolor{red}{\\textbf{SOLUTION:}}$"
   ]
  },
  {
   "cell_type": "code",
   "execution_count": 22,
   "id": "c9a8e8d9-bf67-4e21-965c-fe0a9a224fbe",
   "metadata": {},
   "outputs": [
    {
     "name": "stdout",
     "output_type": "stream",
     "text": [
      "-D=D-\n",
      " \n",
      "[[1. 0. 0.]\n",
      " [0. 1. 0.]\n",
      " [0. 0. 1.]]\n",
      " \n",
      "----\n",
      " \n",
      " v \n",
      " | \n",
      "-D-\n",
      " \n",
      "[[1. 0. 0.]\n",
      " [0. 2. 0.]\n",
      " [0. 0. 3.]]\n",
      " \n",
      "----\n",
      " \n",
      "  |  \n",
      "v-D-w\n",
      " \n",
      "[ 4. 10. 18.]\n"
     ]
    }
   ],
   "source": [
    "import numpy as np\n",
    "\n",
    "D = np.zeros([3,3,3])\n",
    "for i in range(3):\n",
    "    D[i,i,i] = 1\n",
    "\n",
    "v = np.array([1,2,3])\n",
    "w = np.array([4,5,6])\n",
    "\n",
    "print('-D=D-')\n",
    "print(' ')\n",
    "print(np.einsum('ijk,ljk->il', D, D))\n",
    "print(' ')\n",
    "print('----')\n",
    "print(' ')\n",
    "\n",
    "print(' v ')\n",
    "print(' | ')\n",
    "print('-D-')\n",
    "print(' ')\n",
    "print(np.einsum('ijk,k->ij', D, v))\n",
    "print(' ')\n",
    "print('----')\n",
    "print(' ')\n",
    "\n",
    "print('  |  ')\n",
    "print('v-D-w')\n",
    "print(' ')\n",
    "print(np.einsum('ijk,j,k->i', D, v, w))"
   ]
  }
 ],
 "metadata": {
  "kernelspec": {
   "display_name": "Python 3 (ipykernel)",
   "language": "python",
   "name": "python3"
  },
  "language_info": {
   "codemirror_mode": {
    "name": "ipython",
    "version": 3
   },
   "file_extension": ".py",
   "mimetype": "text/x-python",
   "name": "python",
   "nbconvert_exporter": "python",
   "pygments_lexer": "ipython3",
   "version": "3.8.10"
  }
 },
 "nbformat": 4,
 "nbformat_minor": 5
}
