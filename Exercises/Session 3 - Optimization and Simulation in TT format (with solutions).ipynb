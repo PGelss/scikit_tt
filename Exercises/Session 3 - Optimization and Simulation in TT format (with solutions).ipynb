{
 "cells": [
  {
   "cell_type": "markdown",
   "id": "e4f44eb7",
   "metadata": {},
   "source": [
    "$\\def\\tcoreleft{\\underset{\\tiny\\mid}{\\textcolor{MidnightBlue}{⦸}}}$\n",
    "$\\def\\tcorecenter{\\underset{\\tiny\\mid}{\\textcolor{RedOrange}{⦿}}}$\n",
    "$\\def\\tcoreright{\\underset{\\tiny\\mid}{\\textcolor{MidnightBlue}{\\oslash}}}$\n",
    "<h1 style=\"text-align: center;\"><b>TMQS Workshop 2024</b> @ Zuse Institute Berlin</h1>\n",
    "<h2 style=\"text-align: center;\">Summer School on Tensor Methods for Quantum Simulation</h2>\n",
    "<h2 style=\"text-align: center;\">June 3 - 5, 2024</h2>\n",
    "<h1 style=\"text-align: center; background-color:#D6EAF8 ;padding:50px\">$\\tcoreleft - \\tcoreleft - \\tcoreleft - \\cdots - \\tcorecenter - \\cdots - \\tcoreright - \\tcoreright$</h1>\n",
    "</br>"
   ]
  },
  {
   "cell_type": "markdown",
   "id": "58a30939-f570-45cd-a736-d6f21aeb2a0c",
   "metadata": {},
   "source": [
    "***"
   ]
  },
  {
   "cell_type": "markdown",
   "id": "6c3441f3-b5a9-42c4-ba21-2bc682b0d8ac",
   "metadata": {},
   "source": [
    "## **Session 3 - Optimization and Simulation in TT format**"
   ]
  },
  {
   "cell_type": "markdown",
   "id": "6f6cc702",
   "metadata": {},
   "source": [
    "***"
   ]
  },
  {
   "attachments": {},
   "cell_type": "markdown",
   "id": "858a33fe-e16e-4dbb-b369-511d7c71fe71",
   "metadata": {},
   "source": [
    "## Exercise 3.1\n",
    "\n",
    "Now, let's look at a well-known example for supervised learning problem which involves the classification of handwritten digits. One of the frequently used datasets in this context is the so-called MNIST dataset. It actually contains 60,000 training images and 10,000 test images with their corresponding classes (i.e., 0,...,9). To reduce computation time, we will examine a reduced dataset extracted from the MNIST dataset. This consists of images with 7x7 pixels, representing only the digits 0 and 1. We have 500 training images and 100 test images at our disposal.\n",
    "\n",
    "**a)**$\\quad$Load the dataset and take a look at some of the training images:\n",
    "\n",
    "> data = np.load('MNIST_full.npz')\n",
    "\n",
    "$\\hspace{0.8cm}$You can access the arrays ```x_train, y_train, x_test, y_test``` by, e.g., ```data['x_train']```.\n",
    "\n",
    "$\\hspace{0.8cm}$The arrays ```x_train``` and ```x_test``` have shape $49 \\times 500$ and $49 \\times 100$, respectively and contain the (flattened) images.\n",
    "\n",
    "$\\hspace{0.8cm}$The arrays ```y_train``` and ```y_test``` have shape $2 \\times 500$ and $2 \\times 100$, respectively and contain the corresponding classes (in one-hot encoding).\n",
    "\n",
    "**b)**$\\quad$For the construction of the transformed data tensor $\\mathbf{\\Theta}$, we choose the two basis functions $\\sin(\\alpha x)$ and $\\cos(\\alpha x)$ with $\\alpha=0.5 \\pi$.\n",
    "\n",
    "$\\hspace{0.8cm}$For this purpose, we use the functions from scikit_tt.data_driven.transform, i.e.,\n",
    "\n",
    "> import scikit_tt.data_driven.transform as tdt\n",
    ">\n",
    "> basis_list = []\n",
    "> \n",
    "> for i in range(order):\n",
    "> \n",
    "> &nbsp;&nbsp; basis_list.append([tdt.Cos(i, alpha), tdt.Sin(i, alpha)])\n",
    "\n",
    "$\\hspace{0.8cm}$Note that ```order``` is simply the number of pixels.\n",
    "\n",
    "**c)**$\\quad$In the next step, we define the initial guess $\\mathbf{\\Xi}$ for the optimization problems\n",
    "\n",
    "$\\hspace{1.25cm}$$\\displaystyle \\min_{\\mathbf{\\Xi} \\in \\mathbb{T}} \\lVert \\mathbf{\\Xi}^\\top \\mathbf{\\Theta}  - Y_i \\rVert_F$,\n",
    "\n",
    "$\\hspace{0.8cm}$where $Y_i$ denotes the $i$th row of ```y_train```. We specify that $\\mathbb{T}$ here consists only of tensor trains with a TT rank of 1, i.e.,\n",
    "\n",
    "> cores = [np.ones([1, 2, 1, 1]) for i in range(order)]\n",
    ">\n",
    "> initial_guess = TT(cores).ortho()\n",
    "\n",
    "**d)**$\\quad$Finally, we use the ARR routine from ```scikit_tt.data_driven.regression``` to optimize the tensors for the individual learning problems:\n",
    "\n",
    "> import scikit_tt.data_driven.regression as reg\n",
    ">\n",
    "> xi = reg.arr(x_train, y_train, basis_list, initial_guess, repeats=5, progress=False)\n",
    "\n",
    "**e)**$\\quad$To apply our coefficient tensors to the test data, we construct the corresponding transformed data tensor:\n",
    "\n",
    "> Theta = tdt.basis_decomposition(x_test, basis_list).transpose(cores=49)\n",
    "\n",
    "$\\hspace{0.8cm}$The corresponding (approximate) label vectors can then be computed by contracting the coefficient tensors with $\\mathbf{\\Theta}$. \n",
    "\n",
    "$\\hspace{0.8cm}$For example, the label vector for class 0 can be computed as follows:\n",
    "\n",
    "> xi_0 = TT(xi[0].cores + [np.ones([1,1,1,1])])\n",
    ">\n",
    "> y_0 = (xi_0.transpose()@Theta).matricize()\n",
    "\n",
    "$\\hspace{0.8cm}$Give these lines some thought!\n",
    "\n",
    "**e)**$\\quad$The row indices of the largest entries of $\\begin{pmatrix} - y_0 - \\\\ - y_1 - \\end{pmatrix}$ determine the detected labels. Compute the classification rate!"
   ]
  },
  {
   "cell_type": "markdown",
   "id": "bc6abad4-3b47-447c-9e87-86b44381164b",
   "metadata": {},
   "source": [
    "***"
   ]
  },
  {
   "cell_type": "markdown",
   "id": "185135f7-a5b7-4db9-9192-d8ff9a0a532f",
   "metadata": {},
   "source": [
    "$\\textcolor{red}{\\textbf{SOLUTION:}}$"
   ]
  },
  {
   "cell_type": "markdown",
   "id": "d3a9188e-d384-4fc5-8022-34050c91807b",
   "metadata": {},
   "source": [
    "**a)**"
   ]
  },
  {
   "cell_type": "code",
   "execution_count": 4,
   "id": "1a02a147-592d-4c28-981e-5859967afa0c",
   "metadata": {},
   "outputs": [
    {
     "data": {
      "image/png": "[encoded data removed]",
      "text/plain": [
       "<Figure size 640x480 with 1 Axes>"
      ]
     },
     "metadata": {},
     "output_type": "display_data"
    }
   ],
   "source": [
    "import numpy as np\n",
    "import matplotlib.pyplot as plt\n",
    "\n",
    "data = np.load('MNIST_reduced.npz')\n",
    "x_train = data['x_train']\n",
    "y_train = data['y_train']\n",
    "x_test = data['x_test']\n",
    "y_test = data['y_test']\n",
    "\n",
    "plt.imshow(x_train[:,11].reshape([7,7]))\n",
    "plt.show()"
   ]
  },
  {
   "cell_type": "markdown",
   "id": "76766d73-a577-4e86-8ae6-8f8cd1c0a737",
   "metadata": {},
   "source": [
    "**b)**"
   ]
  },
  {
   "cell_type": "code",
   "execution_count": 13,
   "id": "a97833e1-9bb5-48ed-a1e6-e5a32a169e14",
   "metadata": {},
   "outputs": [],
   "source": [
    "import scikit_tt.data_driven.transform as tdt\n",
    "\n",
    "order = 49\n",
    "alpha = 0.5 * np.pi\n",
    "basis_list = []\n",
    "for i in range(order):\n",
    "    basis_list.append([tdt.Cos(i, alpha), tdt.Sin(i, alpha)])"
   ]
  },
  {
   "cell_type": "markdown",
   "id": "b3ff0acc-80e0-456e-ab39-348964498f31",
   "metadata": {},
   "source": [
    "**c)**"
   ]
  },
  {
   "cell_type": "code",
   "execution_count": 6,
   "id": "0dd84cb1-3ad7-47c0-8cc9-fde62c75d8a0",
   "metadata": {},
   "outputs": [],
   "source": [
    "from scikit_tt.tensor_train import TT\n",
    "\n",
    "cores = [np.ones([1, 2, 1, 1]) for i in range(order)]\n",
    "initial_guess = TT(cores).ortho()"
   ]
  },
  {
   "cell_type": "markdown",
   "id": "f3d10764-ddfa-41d7-8e9e-b464052c7be6",
   "metadata": {},
   "source": [
    "**d)**"
   ]
  },
  {
   "cell_type": "code",
   "execution_count": 7,
   "id": "b77d22be-6549-44ce-b4e5-1b9cb2dea27f",
   "metadata": {},
   "outputs": [],
   "source": [
    "import scikit_tt.data_driven.regression as reg\n",
    "\n",
    "xi = reg.arr(x_train, y_train, basis_list, initial_guess, repeats=5, progress=False)"
   ]
  },
  {
   "cell_type": "markdown",
   "id": "0a63ef0d-8c1f-4113-b69e-985fd2175fb8",
   "metadata": {},
   "source": [
    "**e)**"
   ]
  },
  {
   "cell_type": "code",
   "execution_count": 8,
   "id": "ef8e566d-367c-41ac-bc47-e05eb0b7fe7c",
   "metadata": {},
   "outputs": [],
   "source": [
    "Theta = tdt.basis_decomposition(x_test, basis_list).transpose(cores=49)\n",
    "xi_0 = TT(xi[0].cores + [np.ones([1,1,1,1])])\n",
    "xi_1 = TT(xi[1].cores + [np.ones([1,1,1,1])])\n",
    "y_0 = (xi_0.transpose()@Theta).matricize()\n",
    "y_1 = (xi_1.transpose()@Theta).matricize()"
   ]
  },
  {
   "cell_type": "markdown",
   "id": "28ebc97a-6721-4fb3-95b2-57e1e9f8c266",
   "metadata": {},
   "source": [
    "**f)**"
   ]
  },
  {
   "cell_type": "code",
   "execution_count": 9,
   "id": "235e000f",
   "metadata": {},
   "outputs": [
    {
     "name": "stdout",
     "output_type": "stream",
     "text": [
      "classification rate: 99.0\n"
     ]
    }
   ],
   "source": [
    "inds = np.argmax(np.vstack([y_0, y_1]), axis=0)\n",
    "sol = np.zeros([2,100])\n",
    "sol[inds, np.arange(0,100)] = 1\n",
    "classification_rate = 100 - np.sum(np.abs(sol - y_test)) / 2\n",
    "print('classification rate:', classification_rate)"
   ]
  },
  {
   "cell_type": "markdown",
   "id": "57638421-d883-4f7f-ab0f-aae0505cffca",
   "metadata": {},
   "source": [
    "***"
   ]
  },
  {
   "attachments": {},
   "cell_type": "markdown",
   "id": "c7140595-9875-4201-ad30-e186a6722ff8",
   "metadata": {},
   "source": [
    "## Exercise 3.2 \n",
    "\n",
    "To conclude, let's take a look at a modified version of an established model for the CO oxidation at RuO2(110), which is a popular fruit-fly system in the theoretical study of heterogeneous catalysis (i.e., a type of catalysis in which the phase of the catalyst differs from that of the reactants). In multiscale models of heterogeneous catalysis, one crucial point is the solution of a Markovian master equation describing the stochastic reaction kinetics. This usually is too high-dimensional to be solved with standard numerical techniques\n",
    "and one has to rely on sampling approaches based on the kinetic Monte Carlo method. Here, we want to break the curse of dimensionality for the direct solution of the Markovian master equation by exploiting the TT Format.\n",
    "\n",
    "The state space of the model is $3^d$, where $d$ is the number of reaction sites in our model (coupled in a nearest-neighbor fashion). That is, each site can be in three different states: $0 = \\text{empty}$, $1 = \\text{O-covered}$, $2 = \\text{CO-covered}$.\n",
    "\n",
    "There are seven elementary reactions:\n",
    "\n",
    "- **O$_2$ adsorption:** if two neighboring sites are empty, they can adsorb a O$_2$ molecule such that both sites are O-covered afterwards\n",
    "- **CO adsorption:** if one site is empty, it can adsorb a CO molecule such that the site is CO-covered afterwards\n",
    "- **O$_2$ desorption:** reversed process of the O$_2$ adsorption\n",
    "- **CO desorption:** reversed process of the CO adsorption\n",
    "- **CO$_2$ desorption:** if two neighboring sites are covered by CO and O, respectively, a (gaseous) CO$_2$ molecule can be formed\n",
    "- **O diffusion:** an adsorbed O atom can move from one site to a neighboring one\n",
    "- **CO diffusion:** an adsorbed O atom can move from one site to a neighboring one\n",
    "\n",
    "The corresponding reaction rate constants are \n",
    "\n",
    "- k_ad_o2=1\n",
    "- k_ad_co=0.01\n",
    "- k_de_o2=0.001 \n",
    "- k_de_co=1\n",
    "- k_de_co2=1\n",
    "- k_diff_o=0.0001\n",
    "- k_diff_co=0.0001\n",
    "\n",
    "**a)**$\\quad$First, we build the infinitesimal generator of our model. \n",
    "\n",
    "$\\hspace{0.8cm}$An entry (transition rate) of this tensor is equal to the reaction rate constant of the corresponding reaction (if there exists one). \n",
    "\n",
    "$\\hspace{0.8cm}$For this, we use the automatic construction of SLIM decompositions for nearest-neighbor interaction systems provided by Scikit-TT. \n",
    "\n",
    "$\\hspace{0.8cm}$In order to do this, you have to define two lists (of lists): ```single_cell_reactions``` and ```two_cell_reactions```.\n",
    "\n",
    "$\\hspace{0.8cm}$The list ```single_cell_reactions```is given by \n",
    "\n",
    "> single_cell_reactions = [[0, 2, k_ad_co],  [2, 0, k_de_co]]\n",
    "\n",
    "$\\hspace{0.8cm}$The first number in each list represents the state of a site before the reaction, the second number is the state after the reaction.\n",
    "\n",
    "$\\hspace{0.8cm}$Define the list ```two_cell_reactions```! Here each entry is a list of the form\n",
    "\n",
    "> [state of site 1 before, state of site 1 afterwards, state of site 2 before, state of site 2 afterwards, reaction rate constant]```\n",
    "\n",
    "$\\hspace{0.8cm}$Then you can automatically construct the operator by\n",
    "\n",
    "> import scikit_tt.slim as slim\n",
    "> \n",
    "> operator = slim.slim_mme_hom([3] * d,  single_cell_reactions,  two_cell_reactions,  cyclic=True)\n",
    "\n",
    "$\\hspace{0.8cm}$where ```d``` denotes the order of the system, i.e., the number of sites.\n",
    "\n",
    "$\\hspace{0.8cm}$The last argument ensures that we have a cyclic TT operator in order to mimic an infinite surface. Therefore, the last site is reaction-wise connected to the first one.\n",
    "\n",
    "**b)**$\\quad$We want to simulate the corresponding master equation up to time $T=1000$ until the system relaxed to a steady state.\n",
    "\n",
    "$\\hspace{0.8cm}$Define the initial value:\n",
    "\n",
    "> initial_value = tt.unit(operator.row_dims, [1] * operator.order)\n",
    "\n",
    "$\\hspace{0.8cm}$To simulate the system, we use the implicit Euler method, which is available in ```scikit_tt.solvers.ode```:\n",
    "\n",
    "> solution = ode.implicit_euler(operator, initial_value, initial_guess, step_sizes=[1]*T, repeats=2, progress=False)\n",
    "\n",
    "$\\hspace{0.8cm}$Here, the TT instance ```initial_guess``` defines the initial guess for each time step. You can use:\n",
    "\n",
    "> initial_guess = tt.ones(operator.row_dims, [1] * operator.order, ranks=r).ortho()\n",
    "\n",
    "$\\hspace{0.8cm}$where ```r``` is the rank of the TT representation.\n",
    "\n",
    "**c)**$\\quad$Run the simulations for $d=20$ (How many states do we consider here?) and $r=1,3,5$ and compute the turn-over frequencies (TOFs) for different reactions. \n",
    "\n",
    "$\\hspace{0.8cm}$A TOF measure how often a reaction is executed per unit time and unit surface.\n",
    "\n",
    "$\\hspace{0.8cm}$Compute the TOFs for the following reactions: CO adsorption, CO desorption, CO$_2$ desorption, O$_2$ adsorption, O$_2$ desorption.\n",
    "\n",
    "$\\hspace{0.8cm}$You can use the follwing routines:"
   ]
  },
  {
   "cell_type": "code",
   "execution_count": null,
   "id": "14d5b917-9670-448c-a794-c30955ba08d0",
   "metadata": {},
   "outputs": [],
   "source": [
    "def single_cell_tof(t, reactant_state, reaction_rate):\n",
    "    tt_tmp = [None] * t.order\n",
    "    for k in range(t.order):\n",
    "        tt_tmp[k] = tt.ones([1] * t.order, t.row_dims)\n",
    "        tt_tmp[k].cores[k] = np.zeros([1, 1, t.row_dims[k], 1])\n",
    "        tt_tmp[k].cores[k][0, 0, reactant_state, 0] = 1\n",
    "    turn_over_frequency = 0\n",
    "    for k in range(t.order):\n",
    "        turn_over_frequency += (reaction_rate / t.order) * (tt_tmp[k] @ t)\n",
    "    return turn_over_frequency\n",
    "\n",
    "\n",
    "def two_cell_tof(t, reactant_states, reaction_rate):\n",
    "    tt_left = [None] * t.order\n",
    "    tt_right = [None] * t.order\n",
    "    for k in range(t.order):\n",
    "        tt_left[k] = tt.ones([1] * t.order, t.row_dims)\n",
    "        tt_right[k] = tt.ones([1] * t.order, t.row_dims)\n",
    "        tt_left[k].cores[k] = np.zeros([1, 1, t.row_dims[k], 1])\n",
    "        tt_left[k].cores[k][0, 0, reactant_states[0], 0] = 1\n",
    "        tt_right[k].cores[k] = np.zeros([1, 1, t.row_dims[k], 1])\n",
    "        tt_right[k].cores[k][0, 0, reactant_states[0], 0] = 1\n",
    "        if k > 0:\n",
    "            tt_left[k].cores[k - 1] = np.zeros([1, 1, t.row_dims[k - 1], 1])\n",
    "            tt_left[k].cores[k - 1][0, 0, reactant_states[1], 0] = 1\n",
    "        else:\n",
    "            tt_left[k].cores[-1] = np.zeros([1, 1, t.row_dims[-1], 1])\n",
    "            tt_left[k].cores[-1][0, 0, reactant_states[1], 0] = 1\n",
    "        if k < t.order - 1:\n",
    "            tt_right[k].cores[k + 1] = np.zeros([1, 1, t.row_dims[k + 1], 1])\n",
    "            tt_right[k].cores[k + 1][0, 0, reactant_states[1], 0] = 1\n",
    "        else:\n",
    "            tt_right[k].cores[0] = np.zeros([1, 1, t.row_dims[0], 1])\n",
    "            tt_right[k].cores[0][0, 0, reactant_states[1], 0] = 1\n",
    "    turn_over_frequency = 0\n",
    "    for k in range(t.order):\n",
    "        turn_over_frequency += (reaction_rate / t.order) * (tt_left[k] @ t) + (reaction_rate / t.order) * (tt_right[k] @ t)\n",
    "    if reactant_states[0]==reactant_states[1]:\n",
    "        turn_over_frequency *= 0.5\n",
    "    return turn_over_frequency"
   ]
  },
  {
   "cell_type": "markdown",
   "id": "3d344fde-867d-4256-bf37-2a014fe48de3",
   "metadata": {},
   "source": [
    "$\\hspace{0.8cm}$Compare your results which the follwing results obtained by extensive kMC simulations:\n",
    "\n",
    "$\\hspace{1.4cm}$$\\text{TOF}_{\\text{CO adsorption}} = 3.7335184883e-05$\n",
    "\n",
    "$\\hspace{1.4cm}$$\\text{TOF}_{\\text{CO desorption}} = 1.5825615091e-05$\n",
    "\n",
    "$\\hspace{1.4cm}$$\\text{TOF}_{\\text{CO}_2~\\text{desorption}} = 2.1509901799e-05$\n",
    "\n",
    "$\\hspace{1.4cm}$$\\text{TOF}_{\\text{O}_2~\\text{adsorption}} = 1.0042688156e-03$\n",
    "\n",
    "$\\hspace{1.4cm}$$\\text{TOF}_{\\text{O}_2~\\text{desorption}} = 9.9351569748e-04])$\n"
   ]
  },
  {
   "cell_type": "markdown",
   "id": "83e132fb-95b5-43a8-98ca-0ed7c397767d",
   "metadata": {},
   "source": [
    "***"
   ]
  },
  {
   "cell_type": "markdown",
   "id": "1cb59312-1033-4dd0-886c-7a034eae661b",
   "metadata": {},
   "source": [
    "$\\textcolor{red}{\\textbf{SOLUTION:}}$"
   ]
  },
  {
   "cell_type": "markdown",
   "id": "04858a85-b2af-4dfc-a867-56477780d7dc",
   "metadata": {},
   "source": [
    "**a)**"
   ]
  },
  {
   "cell_type": "code",
   "execution_count": 22,
   "id": "95c7629b-afe0-4f7a-9223-60e890fbe0e9",
   "metadata": {},
   "outputs": [],
   "source": [
    "import scikit_tt.slim as slim\n",
    "\n",
    "def co_oxidation(order: int, cyclic: bool = True):\n",
    "\n",
    "    # reaction rate constants\n",
    "    k_ad_co=0.01\n",
    "    k_ad_o2=1\n",
    "    k_de_co=1\n",
    "    k_de_o2=0.001\n",
    "    k_diff_co=0.0001\n",
    "    k_diff_o=0.0001\n",
    "    k_de_co2=1,\n",
    "\n",
    "    # define state space\n",
    "    state_space = [3] * order\n",
    "    \n",
    "    # define operator using automatic construction of SLIM decomposition\n",
    "    single_cell_reactions = [[0, 2, k_ad_co],  [2, 0, k_de_co]]\n",
    "    two_cell_reactions = [[0, 1, 0, 1,  k_ad_o2],   [1, 0, 1, 0, k_de_o2],  [2, 0, 1, 0, k_de_co2],\n",
    "                          [1, 0, 2, 0,  k_de_co2],  [1, 0, 0, 1, k_diff_o], [0, 1, 1, 0, k_diff_o],\n",
    "                          [0, 2, 2, 0,  k_diff_co], [2, 0, 0, 2, k_diff_co]]\n",
    "    # define operator\n",
    "    operator = slim.slim_mme_hom(state_space,  single_cell_reactions,  two_cell_reactions,  cyclic=cyclic)\n",
    "    \n",
    "    return operator"
   ]
  },
  {
   "cell_type": "markdown",
   "id": "9fa39d73-1da2-4936-bd47-1421d66d2e19",
   "metadata": {},
   "source": [
    "**b)**"
   ]
  },
  {
   "cell_type": "code",
   "execution_count": 27,
   "id": "c389bb4e-b192-4c81-8b61-d3a6071836e1",
   "metadata": {},
   "outputs": [],
   "source": [
    "import scikit_tt.tensor_train as tt\n",
    "\n",
    "initial_value = tt.unit(operator.row_dims, [1] * operator.order)"
   ]
  },
  {
   "cell_type": "markdown",
   "id": "f9cfdea9-86a7-44dc-931d-a04113ac4037",
   "metadata": {},
   "source": [
    "**c)**"
   ]
  },
  {
   "cell_type": "code",
   "execution_count": 28,
   "id": "c9c6030d-ac33-439f-921d-a416d5a1968b",
   "metadata": {},
   "outputs": [
    {
     "name": "stdout",
     "output_type": "stream",
     "text": [
      "rank: 1\n",
      "closeness:  0.02049389927055082\n",
      "CO adsorption: 0.9999985033320705\n",
      "CO desorption: 0.9999988212074029\n",
      "CO2 desorption: 0.9999982654390752\n",
      "O2 adsorption: 0.9999999999998999\n",
      "O2 desorption: 0.0065266118325683475\n",
      " \n",
      "rank: 3\n",
      "closeness:  2.854591698491477e-05\n",
      "CO adsorption: 0.03535894872072331\n",
      "CO desorption: 0.025410651666284444\n",
      "CO2 desorption: 0.03523120468111328\n",
      "O2 adsorption: 0.002271096173509499\n",
      "O2 desorption: 0.00026421613477488315\n",
      " \n",
      "rank: 5\n",
      "closeness:  1.993406525169611e-05\n",
      "CO adsorption: 0.036540695417844236\n",
      "CO desorption: 0.037659732726426226\n",
      "CO2 desorption: 0.050786659054062204\n",
      "O2 adsorption: 0.0021937656676205898\n",
      "O2 desorption: 0.0002735168507174837\n",
      " \n"
     ]
    }
   ],
   "source": [
    "import scikit_tt.solvers.ode as ode\n",
    "\n",
    "tofs = np.array([3.7335184883e-05, 1.5825615091e-05, 2.1509901799e-05, 1.0042688156e-03, 9.9351569748e-04])\n",
    "R = [1, 3, 5]\n",
    "operator = co_oxidation(order=20,  cyclic=True).ortho()\n",
    "\n",
    "for i in range(3):\n",
    "    r = R[i]\n",
    "    initial_guess = tt.ones(operator.row_dims, [1] * operator.order, ranks=r).ortho()\n",
    "    solution = ode.implicit_euler(operator, initial_value, initial_guess, step_sizes=[1]*1000, repeats=2, progress=False)\n",
    "    print('rank:', r)\n",
    "    print('closeness: ', (operator@solution[-1]).norm())\n",
    "    print('CO adsorption:', np.abs(single_cell_tof(solution[-1], 0, 0.01) - tofs[0])/tofs[0])   # CO adsorption\n",
    "    print('CO desorption:', np.abs(single_cell_tof(solution[-1], 2, 1) - tofs[1])/tofs[1])      # CO desorption\n",
    "    print('CO2 desorption:', np.abs(two_cell_tof(solution[-1], [2,1], 1) - tofs[2])/tofs[2])     # CO2 desorption\n",
    "    print('O2 adsorption:', np.abs(two_cell_tof(solution[-1], [0,0], 1) - tofs[3])/tofs[3])     # O2 adsorption\n",
    "    print('O2 desorption:', np.abs(two_cell_tof(solution[-1], [1,1], 0.001) - tofs[4])/tofs[4]) # O2 desorption\n",
    "    print(' ')"
   ]
  }
 ],
 "metadata": {
  "kernelspec": {
   "display_name": "Python 3 (ipykernel)",
   "language": "python",
   "name": "python3"
  },
  "language_info": {
   "codemirror_mode": {
    "name": "ipython",
    "version": 3
   },
   "file_extension": ".py",
   "mimetype": "text/x-python",
   "name": "python",
   "nbconvert_exporter": "python",
   "pygments_lexer": "ipython3",
   "version": "3.11.8"
  }
 },
 "nbformat": 4,
 "nbformat_minor": 5
}
